{
 "cells": [
  {
   "cell_type": "code",
   "execution_count": 1,
   "metadata": {},
   "outputs": [],
   "source": [
    "import numpy as np\n",
    "import pandas as pd\n",
    "from sklearn import preprocessing as pp"
   ]
  },
  {
   "cell_type": "code",
   "execution_count": null,
   "metadata": {},
   "outputs": [],
   "source": []
  },
  {
   "cell_type": "code",
   "execution_count": null,
   "metadata": {},
   "outputs": [],
   "source": []
  },
  {
   "cell_type": "code",
   "execution_count": 2,
   "metadata": {},
   "outputs": [],
   "source": [
    "def step_grad(x,y,learning_rate,m): \n",
    "    slope_m =np.zeros(len(x[0]),int)\n",
    "    N = len(x)\n",
    "    M= len(x[0])\n",
    "    for j in range(M):\n",
    "        for i in range(N):\n",
    "            slope_m[j]+=(y[i]-(m*x[i]).sum())*x[i][j]    \n",
    "    m_slope = m - learning_rate*slope_m*(-2/N)\n",
    "    return m_slope"
   ]
  },
  {
   "cell_type": "code",
   "execution_count": 3,
   "metadata": {},
   "outputs": [],
   "source": [
    "def gd(x,y,learning_rate,num_operations):\n",
    "    n=len(x[0])\n",
    "    m =np.zeros(n,int)\n",
    "    for i in range(num_operations):\n",
    "        m = step_grad(x,y,learning_rate,m)\n",
    "#         print(i,\"cost : \", cost(x,y,m))\n",
    "        \n",
    "    return m"
   ]
  },
  {
   "cell_type": "code",
   "execution_count": 4,
   "metadata": {},
   "outputs": [],
   "source": [
    "# def cost(x,y,m):\n",
    "#     ans = ((y-x.dot(m))**2).mean()\n",
    "#     return ans"
   ]
  },
  {
   "cell_type": "code",
   "execution_count": 5,
   "metadata": {},
   "outputs": [],
   "source": [
    "def run():\n",
    "    data= np.loadtxt(\"0000000000002419_training_ccpp_x_y_train.csv\",delimiter = \",\")\n",
    "    x = data[:,0:-1]\n",
    "    scaler = pp.StandardScaler()\n",
    "    scaler.fit(x)\n",
    "    x_train = scaler.transform(x)\n",
    "#     x_train = pp.scale(x)\n",
    "    df = pd.DataFrame(x_train)\n",
    "    y = data[:,-1]\n",
    "    df['ones']=1\n",
    "    x_train = df.to_numpy()\n",
    "    learning_rate =0.42\n",
    "    num_operations =42\n",
    "#     num_operations =20\n",
    "    m = gd(x_train,y,learning_rate,num_operations)\n",
    "    return m\n",
    "# print(run())\n",
    "    \n",
    "    "
   ]
  },
  {
   "cell_type": "code",
   "execution_count": 6,
   "metadata": {},
   "outputs": [],
   "source": [
    "# run()"
   ]
  },
  {
   "cell_type": "code",
   "execution_count": 7,
   "metadata": {},
   "outputs": [
    {
     "data": {
      "text/plain": [
       "LinearRegression(copy_X=True, fit_intercept=True, n_jobs=None, normalize=False)"
      ]
     },
     "execution_count": 7,
     "metadata": {},
     "output_type": "execute_result"
    }
   ],
   "source": [
    "data = np.genfromtxt(\"0000000000002419_training_ccpp_x_y_train.csv\",delimiter=',')\n",
    "x_1 = data[:,:-1]\n",
    "y = data[:,-1]\n",
    "scaler = pp.StandardScaler()\n",
    "scaler.fit(x_1)\n",
    "x_new = scaler.transform(x_1)\n",
    "df = pd.DataFrame(x_new)\n",
    "df[\"O\"] = 1\n",
    "x = df.to_numpy()\n",
    "from sklearn.linear_model import LinearRegression\n",
    "alg = LinearRegression()\n",
    "alg.fit(x,y)"
   ]
  },
  {
   "cell_type": "code",
   "execution_count": 8,
   "metadata": {},
   "outputs": [],
   "source": [
    "m = alg.coef_\n",
    "c = alg.intercept_"
   ]
  },
  {
   "cell_type": "code",
   "execution_count": 9,
   "metadata": {},
   "outputs": [
    {
     "data": {
      "text/plain": [
       "(2392, 5)"
      ]
     },
     "execution_count": 9,
     "metadata": {},
     "output_type": "execute_result"
    }
   ],
   "source": [
    "dat= np.genfromtxt(\"original_test_cycle.csv\", delimiter=\",\")\n",
    "scaler = pp.StandardScaler()\n",
    "scaler.fit(dat)\n",
    "datt = scaler.transform(dat)\n",
    "# datt = pp.scale(dat)\n",
    "d = pd.DataFrame(datt)\n",
    "d[\"New\"] = 1\n",
    "x_test = d.to_numpy()\n",
    "x_test.shape\n"
   ]
  },
  {
   "cell_type": "code",
   "execution_count": 10,
   "metadata": {},
   "outputs": [
    {
     "name": "stdout",
     "output_type": "stream",
     "text": [
      "[470.38918441 472.12070181 432.97199301 ... 438.98051786 451.82831251\n",
      " 447.49924432]\n"
     ]
    }
   ],
   "source": [
    "def pred(x,m):\n",
    "    return x.dot(m)\n",
    "\n",
    "y_pred = pred(x_test,run())\n",
    "print(y_pred)"
   ]
  },
  {
   "cell_type": "code",
   "execution_count": 11,
   "metadata": {},
   "outputs": [],
   "source": [
    "np.savetxt(\"0000000000002419_test_ccpp_x_test.csv\",y_pred, delimiter =',', fmt='%1.10f')"
   ]
  },
  {
   "cell_type": "code",
   "execution_count": 12,
   "metadata": {},
   "outputs": [
    {
     "name": "stdout",
     "output_type": "stream",
     "text": [
      "(2392,)\n"
     ]
    }
   ],
   "source": [
    "y_pred_in = x_test.dot(m) + c\n",
    "y_pred_in\n",
    "print(y_pred_in.shape)"
   ]
  },
  {
   "cell_type": "code",
   "execution_count": 13,
   "metadata": {},
   "outputs": [],
   "source": [
    "import matplotlib.pyplot as plt\n"
   ]
  },
  {
   "cell_type": "code",
   "execution_count": 14,
   "metadata": {},
   "outputs": [
    {
     "data": {
      "text/plain": [
       "<matplotlib.collections.PathCollection at 0x1a16c5a990>"
      ]
     },
     "execution_count": 14,
     "metadata": {},
     "output_type": "execute_result"
    },
    {
     "data": {
      "image/png": "[encoded data removed]",
      "text/plain": [
       "<Figure size 432x288 with 1 Axes>"
      ]
     },
     "metadata": {
      "needs_background": "light"
     },
     "output_type": "display_data"
    }
   ],
   "source": [
    "plt.scatter(y_pred,y_pred_in)"
   ]
  },
  {
   "cell_type": "code",
   "execution_count": null,
   "metadata": {},
   "outputs": [],
   "source": []
  }
 ],
 "metadata": {
  "kernelspec": {
   "display_name": "Python 3",
   "language": "python",
   "name": "python3"
  },
  "language_info": {
   "codemirror_mode": {
    "name": "ipython",
    "version": 3
   },
   "file_extension": ".py",
   "mimetype": "text/x-python",
   "name": "python",
   "nbconvert_exporter": "python",
   "pygments_lexer": "ipython3",
   "version": "3.7.6"
  }
 },
 "nbformat": 4,
 "nbformat_minor": 4
}
