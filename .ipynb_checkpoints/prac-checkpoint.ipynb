{
 "cells": [
  {
   "cell_type": "code",
   "execution_count": 1,
   "metadata": {},
   "outputs": [],
   "source": [
    "import numpy as np\n",
    "# from sklearn import datasets\n",
    "import pandas as pd\n",
    "from sklearn import preprocessing as pp"
   ]
  },
  {
   "cell_type": "code",
   "execution_count": 2,
   "metadata": {},
   "outputs": [
    {
     "data": {
      "text/html": [
       "<div>\n",
       "<style scoped>\n",
       "    .dataframe tbody tr th:only-of-type {\n",
       "        vertical-align: middle;\n",
       "    }\n",
       "\n",
       "    .dataframe tbody tr th {\n",
       "        vertical-align: top;\n",
       "    }\n",
       "\n",
       "    .dataframe thead th {\n",
       "        text-align: right;\n",
       "    }\n",
       "</style>\n",
       "<table border=\"1\" class=\"dataframe\">\n",
       "  <thead>\n",
       "    <tr style=\"text-align: right;\">\n",
       "      <th></th>\n",
       "      <th>0</th>\n",
       "      <th>1</th>\n",
       "      <th>2</th>\n",
       "      <th>3</th>\n",
       "      <th>4</th>\n",
       "      <th>5</th>\n",
       "      <th>6</th>\n",
       "      <th>7</th>\n",
       "      <th>8</th>\n",
       "      <th>9</th>\n",
       "      <th>10</th>\n",
       "      <th>11</th>\n",
       "      <th>12</th>\n",
       "      <th>13</th>\n",
       "    </tr>\n",
       "  </thead>\n",
       "  <tbody>\n",
       "    <tr>\n",
       "      <th>0</th>\n",
       "      <td>-0.400981</td>\n",
       "      <td>-0.490427</td>\n",
       "      <td>-1.281492</td>\n",
       "      <td>-0.287849</td>\n",
       "      <td>-0.605917</td>\n",
       "      <td>1.207950</td>\n",
       "      <td>0.814838</td>\n",
       "      <td>-0.505604</td>\n",
       "      <td>-0.784522</td>\n",
       "      <td>-1.297963</td>\n",
       "      <td>-0.322642</td>\n",
       "      <td>0.420280</td>\n",
       "      <td>-1.100955</td>\n",
       "      <td>1.0</td>\n",
       "    </tr>\n",
       "    <tr>\n",
       "      <th>1</th>\n",
       "      <td>-0.400534</td>\n",
       "      <td>-0.490427</td>\n",
       "      <td>0.207535</td>\n",
       "      <td>-0.287849</td>\n",
       "      <td>-1.047205</td>\n",
       "      <td>-0.030261</td>\n",
       "      <td>-0.891071</td>\n",
       "      <td>0.328940</td>\n",
       "      <td>-0.557982</td>\n",
       "      <td>-0.102675</td>\n",
       "      <td>0.093911</td>\n",
       "      <td>0.302580</td>\n",
       "      <td>-0.531433</td>\n",
       "      <td>1.0</td>\n",
       "    </tr>\n",
       "    <tr>\n",
       "      <th>2</th>\n",
       "      <td>0.099008</td>\n",
       "      <td>-0.490427</td>\n",
       "      <td>0.964253</td>\n",
       "      <td>-0.287849</td>\n",
       "      <td>1.340946</td>\n",
       "      <td>-0.471970</td>\n",
       "      <td>0.659427</td>\n",
       "      <td>-0.561179</td>\n",
       "      <td>1.594148</td>\n",
       "      <td>1.459945</td>\n",
       "      <td>0.788166</td>\n",
       "      <td>-3.726145</td>\n",
       "      <td>0.860578</td>\n",
       "      <td>1.0</td>\n",
       "    </tr>\n",
       "    <tr>\n",
       "      <th>3</th>\n",
       "      <td>0.008138</td>\n",
       "      <td>-0.490427</td>\n",
       "      <td>0.964253</td>\n",
       "      <td>-0.287849</td>\n",
       "      <td>1.834151</td>\n",
       "      <td>-0.080131</td>\n",
       "      <td>0.775082</td>\n",
       "      <td>-0.693215</td>\n",
       "      <td>1.594148</td>\n",
       "      <td>1.459945</td>\n",
       "      <td>0.788166</td>\n",
       "      <td>-0.049549</td>\n",
       "      <td>0.194293</td>\n",
       "      <td>1.0</td>\n",
       "    </tr>\n",
       "    <tr>\n",
       "      <th>4</th>\n",
       "      <td>-0.405257</td>\n",
       "      <td>-0.490427</td>\n",
       "      <td>-0.990005</td>\n",
       "      <td>-0.287849</td>\n",
       "      <td>-0.943373</td>\n",
       "      <td>-0.416400</td>\n",
       "      <td>-0.887456</td>\n",
       "      <td>0.294021</td>\n",
       "      <td>-0.784522</td>\n",
       "      <td>-0.983107</td>\n",
       "      <td>0.001343</td>\n",
       "      <td>0.440491</td>\n",
       "      <td>0.010442</td>\n",
       "      <td>1.0</td>\n",
       "    </tr>\n",
       "    <tr>\n",
       "      <th>...</th>\n",
       "      <td>...</td>\n",
       "      <td>...</td>\n",
       "      <td>...</td>\n",
       "      <td>...</td>\n",
       "      <td>...</td>\n",
       "      <td>...</td>\n",
       "      <td>...</td>\n",
       "      <td>...</td>\n",
       "      <td>...</td>\n",
       "      <td>...</td>\n",
       "      <td>...</td>\n",
       "      <td>...</td>\n",
       "      <td>...</td>\n",
       "      <td>...</td>\n",
       "    </tr>\n",
       "    <tr>\n",
       "      <th>374</th>\n",
       "      <td>-0.210638</td>\n",
       "      <td>-0.490427</td>\n",
       "      <td>1.176766</td>\n",
       "      <td>3.474042</td>\n",
       "      <td>0.406452</td>\n",
       "      <td>2.129840</td>\n",
       "      <td>1.031691</td>\n",
       "      <td>-0.811218</td>\n",
       "      <td>-0.557982</td>\n",
       "      <td>-0.073522</td>\n",
       "      <td>-1.757436</td>\n",
       "      <td>0.371535</td>\n",
       "      <td>-1.501831</td>\n",
       "      <td>1.0</td>\n",
       "    </tr>\n",
       "    <tr>\n",
       "      <th>375</th>\n",
       "      <td>0.198643</td>\n",
       "      <td>-0.490427</td>\n",
       "      <td>0.964253</td>\n",
       "      <td>-0.287849</td>\n",
       "      <td>1.340946</td>\n",
       "      <td>0.183470</td>\n",
       "      <td>0.659427</td>\n",
       "      <td>-0.683814</td>\n",
       "      <td>1.594148</td>\n",
       "      <td>1.459945</td>\n",
       "      <td>0.788166</td>\n",
       "      <td>-2.756549</td>\n",
       "      <td>0.474907</td>\n",
       "      <td>1.0</td>\n",
       "    </tr>\n",
       "    <tr>\n",
       "      <th>376</th>\n",
       "      <td>-0.401413</td>\n",
       "      <td>-0.490427</td>\n",
       "      <td>0.207535</td>\n",
       "      <td>-0.287849</td>\n",
       "      <td>-1.047205</td>\n",
       "      <td>-0.238291</td>\n",
       "      <td>-0.862157</td>\n",
       "      <td>0.138088</td>\n",
       "      <td>-0.557982</td>\n",
       "      <td>-0.102675</td>\n",
       "      <td>0.093911</td>\n",
       "      <td>0.342894</td>\n",
       "      <td>-0.347582</td>\n",
       "      <td>1.0</td>\n",
       "    </tr>\n",
       "    <tr>\n",
       "      <th>377</th>\n",
       "      <td>-0.403579</td>\n",
       "      <td>-0.490427</td>\n",
       "      <td>-1.169492</td>\n",
       "      <td>-0.287849</td>\n",
       "      <td>-0.848193</td>\n",
       "      <td>0.036708</td>\n",
       "      <td>-1.895822</td>\n",
       "      <td>0.658682</td>\n",
       "      <td>-0.671252</td>\n",
       "      <td>0.083906</td>\n",
       "      <td>-0.739195</td>\n",
       "      <td>0.215899</td>\n",
       "      <td>-0.752606</td>\n",
       "      <td>1.0</td>\n",
       "    </tr>\n",
       "    <tr>\n",
       "      <th>378</th>\n",
       "      <td>0.303242</td>\n",
       "      <td>-0.490427</td>\n",
       "      <td>0.964253</td>\n",
       "      <td>3.474042</td>\n",
       "      <td>0.631423</td>\n",
       "      <td>1.009893</td>\n",
       "      <td>1.006392</td>\n",
       "      <td>-1.199453</td>\n",
       "      <td>1.594148</td>\n",
       "      <td>1.459945</td>\n",
       "      <td>0.788166</td>\n",
       "      <td>0.397907</td>\n",
       "      <td>-1.358069</td>\n",
       "      <td>1.0</td>\n",
       "    </tr>\n",
       "  </tbody>\n",
       "</table>\n",
       "<p>379 rows × 14 columns</p>\n",
       "</div>"
      ],
      "text/plain": [
       "            0         1         2         3         4         5         6  \\\n",
       "0   -0.400981 -0.490427 -1.281492 -0.287849 -0.605917  1.207950  0.814838   \n",
       "1   -0.400534 -0.490427  0.207535 -0.287849 -1.047205 -0.030261 -0.891071   \n",
       "2    0.099008 -0.490427  0.964253 -0.287849  1.340946 -0.471970  0.659427   \n",
       "3    0.008138 -0.490427  0.964253 -0.287849  1.834151 -0.080131  0.775082   \n",
       "4   -0.405257 -0.490427 -0.990005 -0.287849 -0.943373 -0.416400 -0.887456   \n",
       "..        ...       ...       ...       ...       ...       ...       ...   \n",
       "374 -0.210638 -0.490427  1.176766  3.474042  0.406452  2.129840  1.031691   \n",
       "375  0.198643 -0.490427  0.964253 -0.287849  1.340946  0.183470  0.659427   \n",
       "376 -0.401413 -0.490427  0.207535 -0.287849 -1.047205 -0.238291 -0.862157   \n",
       "377 -0.403579 -0.490427 -1.169492 -0.287849 -0.848193  0.036708 -1.895822   \n",
       "378  0.303242 -0.490427  0.964253  3.474042  0.631423  1.009893  1.006392   \n",
       "\n",
       "            7         8         9        10        11        12   13  \n",
       "0   -0.505604 -0.784522 -1.297963 -0.322642  0.420280 -1.100955  1.0  \n",
       "1    0.328940 -0.557982 -0.102675  0.093911  0.302580 -0.531433  1.0  \n",
       "2   -0.561179  1.594148  1.459945  0.788166 -3.726145  0.860578  1.0  \n",
       "3   -0.693215  1.594148  1.459945  0.788166 -0.049549  0.194293  1.0  \n",
       "4    0.294021 -0.784522 -0.983107  0.001343  0.440491  0.010442  1.0  \n",
       "..        ...       ...       ...       ...       ...       ...  ...  \n",
       "374 -0.811218 -0.557982 -0.073522 -1.757436  0.371535 -1.501831  1.0  \n",
       "375 -0.683814  1.594148  1.459945  0.788166 -2.756549  0.474907  1.0  \n",
       "376  0.138088 -0.557982 -0.102675  0.093911  0.342894 -0.347582  1.0  \n",
       "377  0.658682 -0.671252  0.083906 -0.739195  0.215899 -0.752606  1.0  \n",
       "378 -1.199453  1.594148  1.459945  0.788166  0.397907 -1.358069  1.0  \n",
       "\n",
       "[379 rows x 14 columns]"
      ]
     },
     "execution_count": 2,
     "metadata": {},
     "output_type": "execute_result"
    }
   ],
   "source": [
    "data= np.loadtxt(\"training_boston_x_y_train.csv\",delimiter = \",\")\n",
    "x = data[:,0:-1]\n",
    "x_train = pp.scale(x)\n",
    "df = pd.DataFrame(x_train)\n",
    "y = data[:,-1]\n",
    "df['ones']=1\n",
    "x_train = df.to_numpy()\n",
    "df = pd.DataFrame(x_train)\n",
    "df"
   ]
  },
  {
   "cell_type": "code",
   "execution_count": 2,
   "metadata": {},
   "outputs": [],
   "source": [
    "def step_grad(x,y,learning_rate,m): \n",
    "    slope_m =np.zeros(len(x[0]),int)\n",
    "    N = len(x)\n",
    "    M= len(x[0])\n",
    "    for j in range(M):\n",
    "        for i in range(N):\n",
    "            slope_m[j]+=(y[i]-(m*x[i]).sum())*x[i][j]    \n",
    "    m_slope = m - learning_rate*slope_m*(-2/N)\n",
    "    return m_slope"
   ]
  },
  {
   "cell_type": "code",
   "execution_count": 35,
   "metadata": {},
   "outputs": [],
   "source": [
    "def gd(x,y,learning_rate,num_operations):\n",
    "    n=len(x[0])\n",
    "    m =np.zeros(n,int)\n",
    "    for i in range(num_operations):\n",
    "        m = step_grad(x,y,learning_rate,m)\n",
    "#         print(i,\"cost : \", cost(x,y,m))\n",
    "        \n",
    "    return m"
   ]
  },
  {
   "cell_type": "code",
   "execution_count": 36,
   "metadata": {},
   "outputs": [],
   "source": [
    "# def cost(x,y,m):\n",
    "#     ans = ((y-x.dot(m))**2).mean()\n",
    "#     return ans"
   ]
  },
  {
   "cell_type": "code",
   "execution_count": 37,
   "metadata": {},
   "outputs": [],
   "source": [
    "def run():\n",
    "    data= np.loadtxt(\"training_boston_x_y_train.csv\",delimiter = \",\")\n",
    "    x = data[:,0:-1]\n",
    "    x_train = pp.scale(x)\n",
    "    df = pd.DataFrame(x_train)\n",
    "    y = data[:,-1]\n",
    "    df['ones']=1\n",
    "    x_train = df.to_numpy()\n",
    "    learning_rate =0.18\n",
    "    num_operations =63\n",
    "#     num_operations =20\n",
    "    m = gd(x_train,y,learning_rate,num_operations)\n",
    "    return m\n",
    "# print(run())"
   ]
  },
  {
   "cell_type": "code",
   "execution_count": 38,
   "metadata": {},
   "outputs": [],
   "source": [
    "# run()"
   ]
  },
  {
   "cell_type": "code",
   "execution_count": 39,
   "metadata": {},
   "outputs": [
    {
     "data": {
      "text/plain": [
       "LinearRegression(copy_X=True, fit_intercept=True, n_jobs=None, normalize=False)"
      ]
     },
     "execution_count": 39,
     "metadata": {},
     "output_type": "execute_result"
    }
   ],
   "source": [
    "data= np.loadtxt(\"training_boston_x_y_train.csv\",delimiter = \",\")\n",
    "#     data = pp.scale(data)\n",
    "x_1 = data[:,:-1]\n",
    "y = data[:,-1]\n",
    "x_new = pp.scale(x_1)\n",
    "df = pd.DataFrame(x_new)\n",
    "df[\"O\"] = 1\n",
    "x = df.to_numpy()\n",
    "from sklearn.linear_model import LinearRegression\n",
    "alg = LinearRegression()\n",
    "alg.fit(x,y)"
   ]
  },
  {
   "cell_type": "code",
   "execution_count": 40,
   "metadata": {},
   "outputs": [
    {
     "name": "stdout",
     "output_type": "stream",
     "text": [
      "[-1.00007026  0.74065794  0.01188043  0.81805153 -2.17094041  2.35394967\n",
      "  0.12135345 -3.03040197  2.57076841 -1.73462464 -2.24921247  0.59685962\n",
      " -4.32352985  0.        ]\n",
      "22.609498680738785\n"
     ]
    }
   ],
   "source": [
    "m = alg.coef_\n",
    "c = alg.intercept_\n",
    "print(m)\n",
    "print(c)\n",
    "\n"
   ]
  },
  {
   "cell_type": "code",
   "execution_count": null,
   "metadata": {},
   "outputs": [],
   "source": []
  },
  {
   "cell_type": "code",
   "execution_count": 41,
   "metadata": {},
   "outputs": [],
   "source": [
    "# print(alg.coef_[len(alg.coef_)-1])\n",
    "# alg.coef_[len(alg.coef_)-1] = alg.intercept_\n",
    "# # alg.coef_\n"
   ]
  },
  {
   "cell_type": "code",
   "execution_count": 42,
   "metadata": {},
   "outputs": [
    {
     "data": {
      "text/plain": [
       "(127, 14)"
      ]
     },
     "execution_count": 42,
     "metadata": {},
     "output_type": "execute_result"
    }
   ],
   "source": [
    "dat= np.genfromtxt(\"test_original.csv\", delimiter=\",\")\n",
    "datt = pp.scale(dat)\n",
    "d = pd.DataFrame(datt)\n",
    "d[\"New\"] = 1\n",
    "x_test = d.to_numpy()\n",
    "x_test.shape\n"
   ]
  },
  {
   "cell_type": "code",
   "execution_count": 43,
   "metadata": {
    "scrolled": true
   },
   "outputs": [
    {
     "name": "stdout",
     "output_type": "stream",
     "text": [
      "[12.66226524 29.21358192 22.56890229 23.34198547 20.34215347  1.21867892\n",
      " 28.59428385 23.71872351 18.39578344 22.94008441 23.98691193 17.44735839\n",
      " 17.67248921 21.69131831 45.99041957 23.14629655 24.08373907 27.4293544\n",
      " 19.01170122 31.72254195 24.09194207 25.8276589  35.68027009 36.90765746\n",
      " 30.82230911 16.36710446 22.62853874 32.39712869 25.81022465 34.9921097\n",
      " 16.50555016 26.1391687  23.48217933 25.47752898 14.9726252  29.48210696\n",
      " 25.35093978 20.33600623 23.59031387  9.06855109  7.72988914 27.70973084\n",
      " 28.26896211 20.80428191 20.63004172  1.9076559  40.22272901 26.05452794\n",
      " 28.03247181 16.92907683 18.17830248 38.75818428 17.81703314 20.71305379\n",
      " 15.15261642 20.5508701  17.83456481 22.34781369 13.13281367 17.4022029\n",
      " 16.57877882 29.91401891 24.73954915 25.42689101 17.20316712 17.48242797\n",
      " 34.39339908 17.11403718 27.86073908 22.76918396 29.32931234 28.12838726\n",
      " 18.75233389  4.96310205 35.00584041 24.57241918 28.69940893 26.12703421\n",
      " 16.19588974 31.17612411 19.80100051 22.86930203 22.42520984  6.15453911\n",
      " 17.67870852 29.41764533 26.11144631  4.59198727 21.30446546 20.40936843\n",
      " 21.57694322 20.42426904 20.81407664 12.79299246 19.69175364 27.9654179\n",
      " 38.66711427 18.85452201 32.01569817 25.63488656 27.77849973 21.74251485\n",
      " 25.84298302 31.21839418 17.69330595 25.87915507 21.02631853 35.68277998\n",
      " 21.0076195  17.53638202 26.41016179 -2.26168246 12.89410157 16.32734703\n",
      " 35.76821902 21.39704068 20.8890332  24.90909956 21.33298321 19.96732601\n",
      " 12.7116467  34.6349034  23.16120719 24.66916766 16.61848363 20.55692679\n",
      " 15.72368736]\n"
     ]
    }
   ],
   "source": [
    "def pred(x,m):\n",
    "    return x.dot(m)\n",
    "\n",
    "y_pred = pred(x_test,run())\n",
    "print(y_pred)\n",
    "\n"
   ]
  },
  {
   "cell_type": "code",
   "execution_count": 44,
   "metadata": {},
   "outputs": [
    {
     "data": {
      "text/plain": [
       "(127,)"
      ]
     },
     "execution_count": 44,
     "metadata": {},
     "output_type": "execute_result"
    }
   ],
   "source": [
    "y_pred.shape"
   ]
  },
  {
   "cell_type": "code",
   "execution_count": 47,
   "metadata": {},
   "outputs": [],
   "source": [
    "np.savetxt(\"test_boston_x_test.csv\",y_pred, delimiter =',', fmt='%1.10f')"
   ]
  },
  {
   "cell_type": "code",
   "execution_count": 48,
   "metadata": {},
   "outputs": [],
   "source": [
    "# y_pred_in = x_test.dot(m) + c\n",
    "# y_pred_in\n",
    "# print(y_pred_in.shape)"
   ]
  },
  {
   "cell_type": "code",
   "execution_count": 49,
   "metadata": {},
   "outputs": [],
   "source": [
    "# import matplotlib.pyplot as plt\n",
    "# plt.scatter(y_pred,y_pred_in)"
   ]
  },
  {
   "cell_type": "code",
   "execution_count": null,
   "metadata": {},
   "outputs": [],
   "source": []
  }
 ],
 "metadata": {
  "kernelspec": {
   "display_name": "Python 3",
   "language": "python",
   "name": "python3"
  },
  "language_info": {
   "codemirror_mode": {
    "name": "ipython",
    "version": 3
   },
   "file_extension": ".py",
   "mimetype": "text/x-python",
   "name": "python",
   "nbconvert_exporter": "python",
   "pygments_lexer": "ipython3",
   "version": "3.7.6"
  }
 },
 "nbformat": 4,
 "nbformat_minor": 4
}
