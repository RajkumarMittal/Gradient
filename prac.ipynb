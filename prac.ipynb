{
 "cells": [
  {
   "cell_type": "code",
   "execution_count": 1,
   "metadata": {},
   "outputs": [],
   "source": [
    "import numpy as np\n",
    "# from sklearn import datasets\n",
    "import pandas as pd\n",
    "from sklearn import preprocessing as pp"
   ]
  },
  {
   "cell_type": "code",
   "execution_count": 2,
   "metadata": {},
   "outputs": [
    {
     "data": {
      "text/html": [
       "<div>\n",
       "<style scoped>\n",
       "    .dataframe tbody tr th:only-of-type {\n",
       "        vertical-align: middle;\n",
       "    }\n",
       "\n",
       "    .dataframe tbody tr th {\n",
       "        vertical-align: top;\n",
       "    }\n",
       "\n",
       "    .dataframe thead th {\n",
       "        text-align: right;\n",
       "    }\n",
       "</style>\n",
       "<table border=\"1\" class=\"dataframe\">\n",
       "  <thead>\n",
       "    <tr style=\"text-align: right;\">\n",
       "      <th></th>\n",
       "      <th>0</th>\n",
       "      <th>1</th>\n",
       "      <th>2</th>\n",
       "      <th>3</th>\n",
       "      <th>4</th>\n",
       "      <th>5</th>\n",
       "      <th>6</th>\n",
       "      <th>7</th>\n",
       "      <th>8</th>\n",
       "      <th>9</th>\n",
       "      <th>10</th>\n",
       "      <th>11</th>\n",
       "      <th>12</th>\n",
       "      <th>13</th>\n",
       "    </tr>\n",
       "  </thead>\n",
       "  <tbody>\n",
       "    <tr>\n",
       "      <th>0</th>\n",
       "      <td>-0.400981</td>\n",
       "      <td>-0.490427</td>\n",
       "      <td>-1.281492</td>\n",
       "      <td>-0.287849</td>\n",
       "      <td>-0.605917</td>\n",
       "      <td>1.207950</td>\n",
       "      <td>0.814838</td>\n",
       "      <td>-0.505604</td>\n",
       "      <td>-0.784522</td>\n",
       "      <td>-1.297963</td>\n",
       "      <td>-0.322642</td>\n",
       "      <td>0.420280</td>\n",
       "      <td>-1.100955</td>\n",
       "      <td>1.0</td>\n",
       "    </tr>\n",
       "    <tr>\n",
       "      <th>1</th>\n",
       "      <td>-0.400534</td>\n",
       "      <td>-0.490427</td>\n",
       "      <td>0.207535</td>\n",
       "      <td>-0.287849</td>\n",
       "      <td>-1.047205</td>\n",
       "      <td>-0.030261</td>\n",
       "      <td>-0.891071</td>\n",
       "      <td>0.328940</td>\n",
       "      <td>-0.557982</td>\n",
       "      <td>-0.102675</td>\n",
       "      <td>0.093911</td>\n",
       "      <td>0.302580</td>\n",
       "      <td>-0.531433</td>\n",
       "      <td>1.0</td>\n",
       "    </tr>\n",
       "    <tr>\n",
       "      <th>2</th>\n",
       "      <td>0.099008</td>\n",
       "      <td>-0.490427</td>\n",
       "      <td>0.964253</td>\n",
       "      <td>-0.287849</td>\n",
       "      <td>1.340946</td>\n",
       "      <td>-0.471970</td>\n",
       "      <td>0.659427</td>\n",
       "      <td>-0.561179</td>\n",
       "      <td>1.594148</td>\n",
       "      <td>1.459945</td>\n",
       "      <td>0.788166</td>\n",
       "      <td>-3.726145</td>\n",
       "      <td>0.860578</td>\n",
       "      <td>1.0</td>\n",
       "    </tr>\n",
       "    <tr>\n",
       "      <th>3</th>\n",
       "      <td>0.008138</td>\n",
       "      <td>-0.490427</td>\n",
       "      <td>0.964253</td>\n",
       "      <td>-0.287849</td>\n",
       "      <td>1.834151</td>\n",
       "      <td>-0.080131</td>\n",
       "      <td>0.775082</td>\n",
       "      <td>-0.693215</td>\n",
       "      <td>1.594148</td>\n",
       "      <td>1.459945</td>\n",
       "      <td>0.788166</td>\n",
       "      <td>-0.049549</td>\n",
       "      <td>0.194293</td>\n",
       "      <td>1.0</td>\n",
       "    </tr>\n",
       "    <tr>\n",
       "      <th>4</th>\n",
       "      <td>-0.405257</td>\n",
       "      <td>-0.490427</td>\n",
       "      <td>-0.990005</td>\n",
       "      <td>-0.287849</td>\n",
       "      <td>-0.943373</td>\n",
       "      <td>-0.416400</td>\n",
       "      <td>-0.887456</td>\n",
       "      <td>0.294021</td>\n",
       "      <td>-0.784522</td>\n",
       "      <td>-0.983107</td>\n",
       "      <td>0.001343</td>\n",
       "      <td>0.440491</td>\n",
       "      <td>0.010442</td>\n",
       "      <td>1.0</td>\n",
       "    </tr>\n",
       "    <tr>\n",
       "      <th>...</th>\n",
       "      <td>...</td>\n",
       "      <td>...</td>\n",
       "      <td>...</td>\n",
       "      <td>...</td>\n",
       "      <td>...</td>\n",
       "      <td>...</td>\n",
       "      <td>...</td>\n",
       "      <td>...</td>\n",
       "      <td>...</td>\n",
       "      <td>...</td>\n",
       "      <td>...</td>\n",
       "      <td>...</td>\n",
       "      <td>...</td>\n",
       "      <td>...</td>\n",
       "    </tr>\n",
       "    <tr>\n",
       "      <th>374</th>\n",
       "      <td>-0.210638</td>\n",
       "      <td>-0.490427</td>\n",
       "      <td>1.176766</td>\n",
       "      <td>3.474042</td>\n",
       "      <td>0.406452</td>\n",
       "      <td>2.129840</td>\n",
       "      <td>1.031691</td>\n",
       "      <td>-0.811218</td>\n",
       "      <td>-0.557982</td>\n",
       "      <td>-0.073522</td>\n",
       "      <td>-1.757436</td>\n",
       "      <td>0.371535</td>\n",
       "      <td>-1.501831</td>\n",
       "      <td>1.0</td>\n",
       "    </tr>\n",
       "    <tr>\n",
       "      <th>375</th>\n",
       "      <td>0.198643</td>\n",
       "      <td>-0.490427</td>\n",
       "      <td>0.964253</td>\n",
       "      <td>-0.287849</td>\n",
       "      <td>1.340946</td>\n",
       "      <td>0.183470</td>\n",
       "      <td>0.659427</td>\n",
       "      <td>-0.683814</td>\n",
       "      <td>1.594148</td>\n",
       "      <td>1.459945</td>\n",
       "      <td>0.788166</td>\n",
       "      <td>-2.756549</td>\n",
       "      <td>0.474907</td>\n",
       "      <td>1.0</td>\n",
       "    </tr>\n",
       "    <tr>\n",
       "      <th>376</th>\n",
       "      <td>-0.401413</td>\n",
       "      <td>-0.490427</td>\n",
       "      <td>0.207535</td>\n",
       "      <td>-0.287849</td>\n",
       "      <td>-1.047205</td>\n",
       "      <td>-0.238291</td>\n",
       "      <td>-0.862157</td>\n",
       "      <td>0.138088</td>\n",
       "      <td>-0.557982</td>\n",
       "      <td>-0.102675</td>\n",
       "      <td>0.093911</td>\n",
       "      <td>0.342894</td>\n",
       "      <td>-0.347582</td>\n",
       "      <td>1.0</td>\n",
       "    </tr>\n",
       "    <tr>\n",
       "      <th>377</th>\n",
       "      <td>-0.403579</td>\n",
       "      <td>-0.490427</td>\n",
       "      <td>-1.169492</td>\n",
       "      <td>-0.287849</td>\n",
       "      <td>-0.848193</td>\n",
       "      <td>0.036708</td>\n",
       "      <td>-1.895822</td>\n",
       "      <td>0.658682</td>\n",
       "      <td>-0.671252</td>\n",
       "      <td>0.083906</td>\n",
       "      <td>-0.739195</td>\n",
       "      <td>0.215899</td>\n",
       "      <td>-0.752606</td>\n",
       "      <td>1.0</td>\n",
       "    </tr>\n",
       "    <tr>\n",
       "      <th>378</th>\n",
       "      <td>0.303242</td>\n",
       "      <td>-0.490427</td>\n",
       "      <td>0.964253</td>\n",
       "      <td>3.474042</td>\n",
       "      <td>0.631423</td>\n",
       "      <td>1.009893</td>\n",
       "      <td>1.006392</td>\n",
       "      <td>-1.199453</td>\n",
       "      <td>1.594148</td>\n",
       "      <td>1.459945</td>\n",
       "      <td>0.788166</td>\n",
       "      <td>0.397907</td>\n",
       "      <td>-1.358069</td>\n",
       "      <td>1.0</td>\n",
       "    </tr>\n",
       "  </tbody>\n",
       "</table>\n",
       "<p>379 rows × 14 columns</p>\n",
       "</div>"
      ],
      "text/plain": [
       "            0         1         2         3         4         5         6  \\\n",
       "0   -0.400981 -0.490427 -1.281492 -0.287849 -0.605917  1.207950  0.814838   \n",
       "1   -0.400534 -0.490427  0.207535 -0.287849 -1.047205 -0.030261 -0.891071   \n",
       "2    0.099008 -0.490427  0.964253 -0.287849  1.340946 -0.471970  0.659427   \n",
       "3    0.008138 -0.490427  0.964253 -0.287849  1.834151 -0.080131  0.775082   \n",
       "4   -0.405257 -0.490427 -0.990005 -0.287849 -0.943373 -0.416400 -0.887456   \n",
       "..        ...       ...       ...       ...       ...       ...       ...   \n",
       "374 -0.210638 -0.490427  1.176766  3.474042  0.406452  2.129840  1.031691   \n",
       "375  0.198643 -0.490427  0.964253 -0.287849  1.340946  0.183470  0.659427   \n",
       "376 -0.401413 -0.490427  0.207535 -0.287849 -1.047205 -0.238291 -0.862157   \n",
       "377 -0.403579 -0.490427 -1.169492 -0.287849 -0.848193  0.036708 -1.895822   \n",
       "378  0.303242 -0.490427  0.964253  3.474042  0.631423  1.009893  1.006392   \n",
       "\n",
       "            7         8         9        10        11        12   13  \n",
       "0   -0.505604 -0.784522 -1.297963 -0.322642  0.420280 -1.100955  1.0  \n",
       "1    0.328940 -0.557982 -0.102675  0.093911  0.302580 -0.531433  1.0  \n",
       "2   -0.561179  1.594148  1.459945  0.788166 -3.726145  0.860578  1.0  \n",
       "3   -0.693215  1.594148  1.459945  0.788166 -0.049549  0.194293  1.0  \n",
       "4    0.294021 -0.784522 -0.983107  0.001343  0.440491  0.010442  1.0  \n",
       "..        ...       ...       ...       ...       ...       ...  ...  \n",
       "374 -0.811218 -0.557982 -0.073522 -1.757436  0.371535 -1.501831  1.0  \n",
       "375 -0.683814  1.594148  1.459945  0.788166 -2.756549  0.474907  1.0  \n",
       "376  0.138088 -0.557982 -0.102675  0.093911  0.342894 -0.347582  1.0  \n",
       "377  0.658682 -0.671252  0.083906 -0.739195  0.215899 -0.752606  1.0  \n",
       "378 -1.199453  1.594148  1.459945  0.788166  0.397907 -1.358069  1.0  \n",
       "\n",
       "[379 rows x 14 columns]"
      ]
     },
     "execution_count": 2,
     "metadata": {},
     "output_type": "execute_result"
    }
   ],
   "source": [
    "data= np.loadtxt(\"training_boston_x_y_train.csv\",delimiter = \",\")\n",
    "x = data[:,0:-1]\n",
    "x_train = pp.scale(x)\n",
    "df = pd.DataFrame(x_train)\n",
    "y = data[:,-1]\n",
    "df['ones']=1\n",
    "x_train = df.to_numpy()\n",
    "df = pd.DataFrame(x_train)\n",
    "df"
   ]
  },
  {
   "cell_type": "code",
   "execution_count": 3,
   "metadata": {},
   "outputs": [],
   "source": [
    "def step_grad(x,y,learning_rate,m): \n",
    "    slope_m =np.zeros(len(x[0]),int)\n",
    "    N = len(x)\n",
    "    M= len(x[0])\n",
    "    for j in range(M):\n",
    "        for i in range(N):\n",
    "            slope_m[j]+=(y[i]-(m*x[i]).sum())*x[i][j]    \n",
    "    m_slope = m - learning_rate*slope_m*(-2/N)\n",
    "    return m_slope"
   ]
  },
  {
   "cell_type": "code",
   "execution_count": 4,
   "metadata": {},
   "outputs": [],
   "source": [
    "def gd(x,y,learning_rate,num_operations):\n",
    "    n=len(x[0])\n",
    "    m =np.zeros(n,int)\n",
    "    for i in range(num_operations):\n",
    "        m = step_grad(x,y,learning_rate,m)\n",
    "#         print(i,\"cost : \", cost(x,y,m))\n",
    "        \n",
    "    return m"
   ]
  },
  {
   "cell_type": "code",
   "execution_count": 5,
   "metadata": {},
   "outputs": [],
   "source": [
    "# def cost(x,y,m):\n",
    "#     ans = ((y-x.dot(m))**2).mean()\n",
    "#     return ans"
   ]
  },
  {
   "cell_type": "code",
   "execution_count": 6,
   "metadata": {},
   "outputs": [],
   "source": [
    "def run():\n",
    "    data= np.loadtxt(\"training_boston_x_y_train.csv\",delimiter = \",\")\n",
    "    x = data[:,0:-1]\n",
    "    scaler = pp.StandardScaler()\n",
    "    scaler.fit(x)\n",
    "\n",
    "    x_train = scaler.transform(x)\n",
    "#     scaler = pp.StandardScaler(x)\n",
    "#     scaler.fit(x)\n",
    "#     x_train = scaler.transform(x)\n",
    "#     x_train = pp.scale(x)\n",
    "    df = pd.DataFrame(x_train)\n",
    "    y = data[:,-1]\n",
    "    df['ones']=1\n",
    "    x_train = df.to_numpy()\n",
    "    learning_rate =0.18\n",
    "    num_operations =63\n",
    "#     num_operations =20\n",
    "    m = gd(x_train,y,learning_rate,num_operations)\n",
    "    return m\n",
    "# print(run())"
   ]
  },
  {
   "cell_type": "code",
   "execution_count": 7,
   "metadata": {},
   "outputs": [],
   "source": [
    "# run()"
   ]
  },
  {
   "cell_type": "code",
   "execution_count": 8,
   "metadata": {},
   "outputs": [
    {
     "data": {
      "text/plain": [
       "LinearRegression(copy_X=True, fit_intercept=True, n_jobs=None, normalize=False)"
      ]
     },
     "execution_count": 8,
     "metadata": {},
     "output_type": "execute_result"
    }
   ],
   "source": [
    "data= np.loadtxt(\"training_boston_x_y_train.csv\",delimiter = \",\")\n",
    "#     data = pp.scale(data)\n",
    "x_1 = data[:,:-1]\n",
    "y = data[:,-1]\n",
    "scaler = pp.StandardScaler()\n",
    "scaler.fit(x_1)\n",
    "\n",
    "x_new = scaler.transform(x_1)\n",
    "# x_new = pp.scale(x_1)\n",
    "df = pd.DataFrame(x_new)\n",
    "df[\"O\"] = 1\n",
    "x = df.to_numpy()\n",
    "from sklearn.linear_model import LinearRegression\n",
    "alg = LinearRegression()\n",
    "alg.fit(x,y)"
   ]
  },
  {
   "cell_type": "code",
   "execution_count": 18,
   "metadata": {},
   "outputs": [
    {
     "name": "stdout",
     "output_type": "stream",
     "text": [
      "[-1.00007026  0.74065794  0.01188043  0.81805153 -2.17094041  2.35394967\n",
      "  0.12135345 -3.03040197  2.57076841 -1.73462464 -2.24921247  0.59685962\n",
      " -4.32352985  0.        ]\n",
      "22.609498680738785\n"
     ]
    }
   ],
   "source": [
    "m = alg.coef_\n",
    "c = alg.intercept_\n",
    "print(m)\n",
    "print(c)\n",
    "\n"
   ]
  },
  {
   "cell_type": "code",
   "execution_count": null,
   "metadata": {},
   "outputs": [],
   "source": []
  },
  {
   "cell_type": "code",
   "execution_count": 10,
   "metadata": {},
   "outputs": [],
   "source": [
    "# print(alg.coef_[len(alg.coef_)-1])\n",
    "# alg.coef_[len(alg.coef_)-1] = alg.intercept_\n",
    "# # alg.coef_\n"
   ]
  },
  {
   "cell_type": "code",
   "execution_count": 11,
   "metadata": {},
   "outputs": [
    {
     "data": {
      "text/plain": [
       "(127, 14)"
      ]
     },
     "execution_count": 11,
     "metadata": {},
     "output_type": "execute_result"
    }
   ],
   "source": [
    "dat= np.genfromtxt(\"test_original.csv\", delimiter=\",\")\n",
    "# x_train = pp.transform(x)\n",
    "datt = scaler.transform(dat)\n",
    "d = pd.DataFrame(datt)\n",
    "d[\"New\"] = 1\n",
    "x_test = d.to_numpy()\n",
    "x_test.shape\n"
   ]
  },
  {
   "cell_type": "code",
   "execution_count": 12,
   "metadata": {
    "scrolled": true
   },
   "outputs": [
    {
     "name": "stdout",
     "output_type": "stream",
     "text": [
      "[13.35819179 29.37258625 22.39505818 23.70621399 20.37508532  2.03611501\n",
      " 28.46664949 23.81222835 18.51956592 22.92694943 24.06030516 17.71666283\n",
      " 18.3624447  22.01562546 44.63826403 23.53538765 24.20373117 27.35048952\n",
      " 19.5881943  31.55584341 24.10074112 25.86695798 35.29581809 35.76276441\n",
      " 31.19584492 16.62110968 22.72431406 32.34021188 25.13132905 33.93827936\n",
      " 16.83805995 26.09282854 23.34610578 25.66632523 15.59207306 29.33378259\n",
      " 25.46039032 20.40472319 24.02367626  9.98122345  8.30295734 27.88509496\n",
      " 28.67445408 20.77123927 20.69912106  2.8180099  39.85532729 26.05817015\n",
      " 28.47256232 17.1887247  18.35022149 38.67236004 18.04239897 20.64944509\n",
      " 15.57834383 20.67788636 18.17142329 22.37071011 13.6079059  17.62702603\n",
      " 17.29767475 29.68191266 24.83294511 25.40885347 17.30042762 17.73947399\n",
      " 34.17771533 17.36560869 27.00725322 22.78142759 29.22523841 28.09675955\n",
      " 18.86080957  5.8331262  35.08922697 24.72468978 28.63990826 26.07704075\n",
      " 16.62546438 31.6931437  19.72288489 22.84917213 22.7102368   7.37425062\n",
      " 17.89544134 29.45627471 26.53396855  5.37110718 21.28563015 20.42977248\n",
      " 21.80552854 20.48458765 21.02221255 13.15077832 19.78379734 27.68661175\n",
      " 38.63324834 18.97702966 31.91323238 26.01316855 27.60451179 22.27667765\n",
      " 25.12697052 30.94836953 17.9633338  25.85206521 21.40637559 35.79275217\n",
      " 21.41067003 17.82636986 26.90321824 -1.1525173  13.2833901  16.24338541\n",
      " 35.44898652 21.45414755 21.10612586 24.91812629 21.67550377 19.93586021\n",
      " 13.2522201  34.45272713 23.27423094 24.95329776 17.56717569 20.56877751\n",
      " 15.93254932]\n"
     ]
    }
   ],
   "source": [
    "def pred(x,m):\n",
    "    return x.dot(m)\n",
    "\n",
    "y_pred = pred(x_test,run())\n",
    "print(y_pred)\n",
    "\n"
   ]
  },
  {
   "cell_type": "code",
   "execution_count": 13,
   "metadata": {},
   "outputs": [
    {
     "data": {
      "text/plain": [
       "(127,)"
      ]
     },
     "execution_count": 13,
     "metadata": {},
     "output_type": "execute_result"
    }
   ],
   "source": [
    "y_pred.shape"
   ]
  },
  {
   "cell_type": "code",
   "execution_count": 14,
   "metadata": {},
   "outputs": [],
   "source": [
    "np.savetxt(\"test_boston_x_test.csv\",y_pred, delimiter =',', fmt='%1.10f')"
   ]
  },
  {
   "cell_type": "code",
   "execution_count": 15,
   "metadata": {},
   "outputs": [
    {
     "name": "stdout",
     "output_type": "stream",
     "text": [
      "(127,)\n"
     ]
    }
   ],
   "source": [
    "y_pred_in = x_test.dot(m) + c\n",
    "y_pred_in\n",
    "print(y_pred_in.shape)"
   ]
  },
  {
   "cell_type": "code",
   "execution_count": 16,
   "metadata": {},
   "outputs": [
    {
     "data": {
      "text/plain": [
       "<matplotlib.collections.PathCollection at 0x1a2213ad10>"
      ]
     },
     "execution_count": 16,
     "metadata": {},
     "output_type": "execute_result"
    },
    {
     "data": {
      "image/png": "[encoded data removed]",
      "text/plain": [
       "<Figure size 432x288 with 1 Axes>"
      ]
     },
     "metadata": {
      "needs_background": "light"
     },
     "output_type": "display_data"
    }
   ],
   "source": [
    "import matplotlib.pyplot as plt\n",
    "plt.scatter(y_pred,y_pred_in)"
   ]
  },
  {
   "cell_type": "code",
   "execution_count": 25,
   "metadata": {},
   "outputs": [
    {
     "name": "stdout",
     "output_type": "stream",
     "text": [
      "[1, 2, 3, 4]\n"
     ]
    }
   ],
   "source": [
    "l = [1,2,3,4,5]\n",
    "l.pop(l.index(max(l)))\n",
    "print(l)"
   ]
  },
  {
   "cell_type": "code",
   "execution_count": null,
   "metadata": {},
   "outputs": [],
   "source": []
  }
 ],
 "metadata": {
  "kernelspec": {
   "display_name": "Python 3",
   "language": "python",
   "name": "python3"
  },
  "language_info": {
   "codemirror_mode": {
    "name": "ipython",
    "version": 3
   },
   "file_extension": ".py",
   "mimetype": "text/x-python",
   "name": "python",
   "nbconvert_exporter": "python",
   "pygments_lexer": "ipython3",
   "version": "3.7.6"
  }
 },
 "nbformat": 4,
 "nbformat_minor": 4
}
